{
 "cells": [
  {
   "cell_type": "code",
   "execution_count": null,
   "metadata": {},
   "outputs": [],
   "source": [
    "# imports\n",
    "from selenium import webdriver\n",
    "from selenium.webdriver.chrome.options import Options\n",
    "import time\n",
    "from bs4 import BeautifulSoup"
   ]
  },
  {
   "cell_type": "code",
   "execution_count": null,
   "metadata": {},
   "outputs": [],
   "source": [
    "# constants\n",
    "URL_TO_SCRAPE = \"https://www.boligsiden.dk/adresse/gunloegsgade-22-0-1-2300-koebenhavn-s-01012436__22_st___1?udbud=a8ce8bcc-edaf-4609-9065-36cb06944308\"\n",
    "URL_TO_ODENSE_HOLSEDORE = \"https://www.boligsiden.dk/adresse/holsedore-18-1-3-5000-odense-c-04613426__18__1___3?udbud=f063a4bb-20f7-404e-a315-f3aa178e6a17\""
   ]
  },
  {
   "cell_type": "code",
   "execution_count": null,
   "metadata": {},
   "outputs": [],
   "source": [
    "def gethtml(url):\n",
    "    options = Options()\n",
    "    options.add_argument('--headless')\n",
    "    options.add_argument('--enable-javascript')\n",
    "\n",
    "    browser = webdriver.Chrome(options=options)\n",
    "\n",
    "    try:\n",
    "        browser.get(url)\n",
    "\n",
    "        time.sleep(2.5)\n",
    "\n",
    "        html = browser.page_source\n",
    "        address = browser.title\n",
    "        soup = BeautifulSoup(html, \"html.parser\")\n",
    "        return soup, address\n",
    "    except Exception as e:\n",
    "        print(e)\n",
    "    finally:\n",
    "        browser.close()\n",
    "        browser.quit()\n",
    "\n"
   ]
  },
  {
   "cell_type": "code",
   "execution_count": null,
   "metadata": {},
   "outputs": [],
   "source": [
    "# Boligsiden\n",
    "\n",
    "soup, address = gethtml(URL_TO_ODENSE_HOLSEDORE)\n",
    "\n",
    "area_of_interest = soup.find(\"div\", {\"class\": \"flex flex-col divide-y divide-gray-100 md:flex-row md:justify-between md:divide-y-0\"})\n",
    "\n",
    "print(address)\n",
    "print(area_of_interest.prettify())\n"
   ]
  }
 ],
 "metadata": {
  "kernelspec": {
   "display_name": "Python 3",
   "language": "python",
   "name": "python3"
  },
  "language_info": {
   "codemirror_mode": {
    "name": "ipython",
    "version": 3
   },
   "file_extension": ".py",
   "mimetype": "text/x-python",
   "name": "python",
   "nbconvert_exporter": "python",
   "pygments_lexer": "ipython3",
   "version": "3.9.18"
  }
 },
 "nbformat": 4,
 "nbformat_minor": 2
}
