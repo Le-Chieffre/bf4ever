{
 "cells": [
  {
   "cell_type": "code",
   "execution_count": 5,
   "metadata": {},
   "outputs": [
    {
     "name": "stdout",
     "output_type": "stream",
     "text": [
      "Google\n"
     ]
    }
   ],
   "source": [
    "from selenium import webdriver\n",
    "from selenium.webdriver.chrome.options import Options\n",
    "\n",
    "options = Options()\n",
    "options.add_argument('--headless')\n",
    "options.add_argument('--enable-javascript')\n",
    "\n",
    "driver = webdriver.Chrome(options=options)\n",
    "\n",
    "driver.get(\"https://google.com/\")\n",
    "print(driver.title)\n",
    "driver.quit()"
   ]
  },
  {
   "cell_type": "markdown",
   "metadata": {},
   "source": [
    "# Install selenium and chromedriver\n",
    "\n",
    "`sudo apt update`\n",
    "\n",
    "`sudo apt upgrade`\n",
    "\n",
    "`cd ..`\n",
    "\n",
    "`sudo wget https://dl.google.com/linux/direct/google-chrome-stable_current_amd64.deb`\n",
    "\n",
    "`sudo dpkg -i google-chrome-stable_current_amd64.deb`\n",
    "\n",
    "`sudo apt-get install -f`\n",
    "\n",
    "`google-chrome --version`\n",
    "\n",
    "`sudo wget https://edgedl.me.gvt1.com/edgedl/chrome/chrome-for-testing/117.0.5938.149/linux64/chromedriver-linux64.zip`\n",
    "\n",
    "`sudo unzip chromedriver-linux64.zip`\n",
    "\n",
    "`cd chromedriver-linux64`\n",
    "\n",
    "`sudo mv chromedriver /usr/bin/chromedriver`\n",
    "\n",
    "`sudo chown root:root /usr/bin/chromedriver`\n",
    "\n",
    "`sudo chmod +x /usr/bin/chromedriver`\n",
    "\n",
    "`chromedriver --url-base=/wd/hub`\n",
    "\n",
    "`python3 -m pip install -r requirements.txt`\n"
   ]
  }
 ],
 "metadata": {
  "kernelspec": {
   "display_name": "Python 3",
   "language": "python",
   "name": "python3"
  },
  "language_info": {
   "codemirror_mode": {
    "name": "ipython",
    "version": 3
   },
   "file_extension": ".py",
   "mimetype": "text/x-python",
   "name": "python",
   "nbconvert_exporter": "python",
   "pygments_lexer": "ipython3",
   "version": "3.9.18"
  }
 },
 "nbformat": 4,
 "nbformat_minor": 2
}
